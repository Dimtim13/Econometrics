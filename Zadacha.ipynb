{
 "cells": [
  {
   "cell_type": "markdown",
   "metadata": {},
   "source": [
    "# Задача"
   ]
  },
  {
   "cell_type": "code",
   "execution_count": 2,
   "metadata": {},
   "outputs": [],
   "source": [
    "import numpy as np\n",
    "import pandas as pd\n",
    "import sklearn.linear_model as lm\n",
    "import statsmodels.api as sm\n",
    "import patsy as pt\n",
    "import matplotlib.pyplot as plt\n",
    "import seaborn as sns\n",
    "from IPython.display import Image\n",
    "from math import sqrt\n",
    "import statistics\n",
    "from scipy import stats"
   ]
  },
  {
   "cell_type": "code",
   "execution_count": 3,
   "metadata": {},
   "outputs": [
    {
     "data": {
      "text/html": [
       "<div>\n",
       "<style scoped>\n",
       "    .dataframe tbody tr th:only-of-type {\n",
       "        vertical-align: middle;\n",
       "    }\n",
       "\n",
       "    .dataframe tbody tr th {\n",
       "        vertical-align: top;\n",
       "    }\n",
       "\n",
       "    .dataframe thead th {\n",
       "        text-align: right;\n",
       "    }\n",
       "</style>\n",
       "<table border=\"1\" class=\"dataframe\">\n",
       "  <thead>\n",
       "    <tr style=\"text-align: right;\">\n",
       "      <th></th>\n",
       "      <th>S</th>\n",
       "      <th>Y</th>\n",
       "      <th>W</th>\n",
       "    </tr>\n",
       "  </thead>\n",
       "  <tbody>\n",
       "    <tr>\n",
       "      <th>0</th>\n",
       "      <td>3.0</td>\n",
       "      <td>40</td>\n",
       "      <td>60</td>\n",
       "    </tr>\n",
       "    <tr>\n",
       "      <th>1</th>\n",
       "      <td>6.0</td>\n",
       "      <td>55</td>\n",
       "      <td>36</td>\n",
       "    </tr>\n",
       "    <tr>\n",
       "      <th>2</th>\n",
       "      <td>5.0</td>\n",
       "      <td>45</td>\n",
       "      <td>36</td>\n",
       "    </tr>\n",
       "    <tr>\n",
       "      <th>3</th>\n",
       "      <td>3.5</td>\n",
       "      <td>30</td>\n",
       "      <td>15</td>\n",
       "    </tr>\n",
       "    <tr>\n",
       "      <th>4</th>\n",
       "      <td>1.5</td>\n",
       "      <td>30</td>\n",
       "      <td>90</td>\n",
       "    </tr>\n",
       "  </tbody>\n",
       "</table>\n",
       "</div>"
      ],
      "text/plain": [
       "     S   Y   W\n",
       "0  3.0  40  60\n",
       "1  6.0  55  36\n",
       "2  5.0  45  36\n",
       "3  3.5  30  15\n",
       "4  1.5  30  90"
      ]
     },
     "execution_count": 3,
     "metadata": {},
     "output_type": "execute_result"
    }
   ],
   "source": [
    "data = pd.read_csv('zadacha.csv', ';')\n",
    "df = data.drop('Family', axis='columns')\n",
    "df.head()"
   ]
  },
  {
   "cell_type": "markdown",
   "metadata": {},
   "source": [
    "## А."
   ]
  },
  {
   "cell_type": "code",
   "execution_count": 21,
   "metadata": {},
   "outputs": [
    {
     "name": "stdout",
     "output_type": "stream",
     "text": [
      "Полученные коэффициенты модели:\n",
      "\n",
      "intercept :  0.2787386557937661\n",
      "Y  :  0.12287912666052875\n",
      "W  :  -0.02940725152352143\n"
     ]
    }
   ],
   "source": [
    "X = df.drop(df.columns[0], axis='columns')\n",
    "y = df['S']\n",
    "reg = lm.LinearRegression()\n",
    "reg.fit(X, y)\n",
    "#X = np.hstack((np.ones((np.shape(X)[0], 1)), X))\n",
    "\n",
    "coeffs = list()\n",
    "coeffs.append(reg.intercept_)\n",
    "coeffs.extend(reg.coef_)\n",
    "\n",
    "print('Полученные коэффициенты модели:\\n')\n",
    "print('intercept : ', coeffs[0])\n",
    "for item in zip(df.columns[1:], coeffs[1:]):\n",
    "    print(item[0], ' : ', item[1])"
   ]
  },
  {
   "cell_type": "markdown",
   "metadata": {},
   "source": [
    "## Б."
   ]
  },
  {
   "cell_type": "code",
   "execution_count": 22,
   "metadata": {},
   "outputs": [],
   "source": [
    "def predict(Y, W):\n",
    "    return coeffs[0] + Y * coeffs[1] + W * coeffs[2]"
   ]
  },
  {
   "cell_type": "code",
   "execution_count": 23,
   "metadata": {},
   "outputs": [
    {
     "data": {
      "text/plain": [
       "4.5"
      ]
     },
     "execution_count": 23,
     "metadata": {},
     "output_type": "execute_result"
    }
   ],
   "source": [
    "round(predict(40, 25), 1)"
   ]
  },
  {
   "cell_type": "markdown",
   "metadata": {},
   "source": [
    "## В."
   ]
  },
  {
   "cell_type": "markdown",
   "metadata": {},
   "source": [
    "Согласно построенному уравнению регрессии, изменение накоплений будут линейно зависеть от изменения дохода при прочих равных.\n",
    "Коэффициентом пропорциональности между ними как раз является соответствующий коэффициент регрессии."
   ]
  },
  {
   "cell_type": "code",
   "execution_count": 24,
   "metadata": {},
   "outputs": [
    {
     "name": "stdout",
     "output_type": "stream",
     "text": [
      "Возрастут на 1.2 тыс. руб.\n"
     ]
    }
   ],
   "source": [
    "print('Возрастут на %s тыс. руб.' % round(coeffs[1] * 10, 1))"
   ]
  },
  {
   "cell_type": "markdown",
   "metadata": {},
   "source": [
    "## Г."
   ]
  },
  {
   "cell_type": "markdown",
   "metadata": {},
   "source": [
    "Аналогично предыдущему пункту, изменение по двум переменным также пропорционально каждой с соответствующими коэффициентами регрессии."
   ]
  },
  {
   "cell_type": "code",
   "execution_count": 25,
   "metadata": {},
   "outputs": [
    {
     "name": "stdout",
     "output_type": "stream",
     "text": [
      "Возрастут на 0.2 тыс. руб.\n"
     ]
    }
   ],
   "source": [
    "print('Возрастут на %s тыс. руб.' % round(coeffs[1] * 5 + coeffs[2] * 15, 1))"
   ]
  },
  {
   "cell_type": "markdown",
   "metadata": {},
   "source": [
    "## Д."
   ]
  },
  {
   "cell_type": "code",
   "execution_count": 34,
   "metadata": {},
   "outputs": [
    {
     "name": "stdout",
     "output_type": "stream",
     "text": [
      "[3.42946863 5.97842957 4.7496383  3.52400368 1.31845982]\n",
      "[3.42946863 5.97842957 4.7496383  3.52400368 1.31845982]\n",
      "Сумма квадратов остатков:\t0.28112258319084565\n",
      "\n",
      "Выборочная дисперсия:\t0.09370752773028189\n",
      "\n"
     ]
    }
   ],
   "source": [
    "Xx = np.hstack((np.ones((np.shape(X)[0], 1)), X))\n",
    "y_pred = Xx.dot(coeffs)\n",
    "#print(y_pred)\n",
    "#print(reg.predict(X))\n",
    "S2n = sum((a - b)**2 for a, b in zip(y, y_pred))\n",
    "print('Сумма квадратов остатков:\\t%s\\n' % S2n)\n",
    "\n",
    "S2 = S2n/(y.shape[0]-2)\n",
    "print('Выборочная дисперсия:\\t%s\\n' % S2)"
   ]
  },
  {
   "cell_type": "markdown",
   "metadata": {},
   "source": [
    "# ДЗ 2."
   ]
  },
  {
   "cell_type": "code",
   "execution_count": 38,
   "metadata": {},
   "outputs": [
    {
     "name": "stdout",
     "output_type": "stream",
     "text": [
      "const    0.278739\n",
      "x1       0.122879\n",
      "x2      -0.029407\n",
      "dtype: float64\n"
     ]
    },
    {
     "data": {
      "text/html": [
       "<div>\n",
       "<style scoped>\n",
       "    .dataframe tbody tr th:only-of-type {\n",
       "        vertical-align: middle;\n",
       "    }\n",
       "\n",
       "    .dataframe tbody tr th {\n",
       "        vertical-align: top;\n",
       "    }\n",
       "\n",
       "    .dataframe thead th {\n",
       "        text-align: right;\n",
       "    }\n",
       "</style>\n",
       "<table border=\"1\" class=\"dataframe\">\n",
       "  <thead>\n",
       "    <tr style=\"text-align: right;\">\n",
       "      <th></th>\n",
       "      <th>const</th>\n",
       "      <th>x1</th>\n",
       "      <th>x2</th>\n",
       "    </tr>\n",
       "  </thead>\n",
       "  <tbody>\n",
       "    <tr>\n",
       "      <th>const</th>\n",
       "      <td>5.691635</td>\n",
       "      <td>-0.107392</td>\n",
       "      <td>-0.025231</td>\n",
       "    </tr>\n",
       "    <tr>\n",
       "      <th>x1</th>\n",
       "      <td>-0.107392</td>\n",
       "      <td>0.002399</td>\n",
       "      <td>0.000241</td>\n",
       "    </tr>\n",
       "    <tr>\n",
       "      <th>x2</th>\n",
       "      <td>-0.025231</td>\n",
       "      <td>0.000241</td>\n",
       "      <td>0.000329</td>\n",
       "    </tr>\n",
       "  </tbody>\n",
       "</table>\n",
       "</div>"
      ],
      "text/plain": [
       "          const        x1        x2\n",
       "const  5.691635 -0.107392 -0.025231\n",
       "x1    -0.107392  0.002399  0.000241\n",
       "x2    -0.025231  0.000241  0.000329"
      ]
     },
     "execution_count": 38,
     "metadata": {},
     "output_type": "execute_result"
    }
   ],
   "source": [
    "import statsmodels.api as sm\n",
    "\n",
    "model = sm.OLS(y,Xx)\n",
    "results = model.fit()\n",
    "\n",
    "coeffs = results.params\n",
    "print(coeffs)\n",
    "\n",
    "cov_matrix = results.normalized_cov_params\n",
    "cov_matrix"
   ]
  },
  {
   "cell_type": "markdown",
   "metadata": {},
   "source": [
    "### В каждом пункте нужно проверить ограниечение 3.40 из учебника."
   ]
  },
  {
   "cell_type": "code",
   "execution_count": 48,
   "metadata": {},
   "outputs": [],
   "source": [
    "def mat(H, x, beta): \n",
    "    A = H.T@np.linalg.inv((H@np.linalg.inv((x.T@x))@H.T))@H\n",
    "    return A\n",
    "\n",
    "e_ = (y - reg.predict(X)).T@(y - reg.predict(X))\n",
    "\n",
    "H23 = np.array([[1, 0], [0, 1]])\n",
    "H2 = np.array([[ 1, 0]])\n",
    "H3 = np.array([[ 0, 1]])\n",
    "H12 = np.array([[1, 0, 0], [0, 1, 0]])"
   ]
  },
  {
   "cell_type": "code",
   "execution_count": 49,
   "metadata": {},
   "outputs": [
    {
     "data": {
      "text/plain": [
       "array([[40, 60],\n",
       "       [55, 36],\n",
       "       [45, 36],\n",
       "       [30, 15],\n",
       "       [30, 90]])"
      ]
     },
     "execution_count": 49,
     "metadata": {},
     "output_type": "execute_result"
    }
   ],
   "source": [
    "np.array(X)"
   ]
  },
  {
   "cell_type": "markdown",
   "metadata": {},
   "source": [
    "## А."
   ]
  },
  {
   "cell_type": "code",
   "execution_count": 79,
   "metadata": {},
   "outputs": [
    {
     "name": "stdout",
     "output_type": "stream",
     "text": [
      "\n",
      "1. Доверительное множество для b2 и b3:\n",
      "c = \n",
      " 0.1874\n",
      "A = \n",
      " [[ 8450.  9150.]\n",
      " [ 9150. 14517.]]\n"
     ]
    }
   ],
   "source": [
    "alpha = 0.05\n",
    "\n",
    "reg.fit(X, y)\n",
    "A = mat(H23, X, reg.coef_)\n",
    "c = (y - reg.predict(X)).T@(y - reg.predict(X))*2/3\n",
    "\n",
    "print('\\n1. Доверительное множество для b2 и b3:')\n",
    "print('c = \\n', round(c, 4))\n",
    "print('A = \\n', A)"
   ]
  },
  {
   "cell_type": "markdown",
   "metadata": {},
   "source": [
    "$(\\hat{\\beta} - \\beta)'A (\\hat{\\beta} - \\beta) \\in [0; 19.16\\cdot c],$\n",
    "\n",
    "$19.16$ = квантиль уровня $0.05$ у $F_{2,3}$."
   ]
  },
  {
   "cell_type": "code",
   "execution_count": 91,
   "metadata": {},
   "outputs": [
    {
     "name": "stdout",
     "output_type": "stream",
     "text": [
      "\n",
      "2. Доверительный интервал для b2:\t -0.0299 \t -0.0289\n",
      "\n",
      "3. Доверительный интервал для b3:\t -0.0297 \t -0.0291\n",
      "\n",
      "4. Доверительное множество для b1 и b2:\n",
      "c = \n",
      " 0.1874\n",
      "A = \n",
      " [[1.13081215e+00 5.06199628e+01 0.00000000e+00]\n",
      " [5.06199628e+01 2.68279603e+03 0.00000000e+00]\n",
      " [0.00000000e+00 0.00000000e+00 0.00000000e+00]]\n"
     ]
    }
   ],
   "source": [
    "#se = (cov_matrix.iloc[1,1])**0.5\n",
    "#bound = se * stats.t.ppf(1-alpha/2., df.shape[0]-3)\n",
    "\n",
    "reg.fit(X, y)\n",
    "A = mat(H2, X, reg.coef_)\n",
    "c = (y - reg.predict(X)).T@(y - reg.predict(X))*1/3\n",
    "t_up = reg.coef_[1] + sqrt(216)*c/A[0,0]\n",
    "t_lo = reg.coef_[1] - sqrt(216)*c/A[0,0]\n",
    "\n",
    "#print('2. Доверительный интервал для b2:\\t', round(coeffs[1] - bound, 3), '\\t', round(coeffs[1] + bound, 3))\n",
    "print('\\n2. Доверительный интервал для b2:\\t', round(t_lo, 4), '\\t', round(t_up, 4))\n",
    "\n",
    "#se = (cov_matrix.iloc[2,2])**0.5\n",
    "#bound = se * stats.t.ppf(1-alpha/2., df.shape[0]-3)\n",
    "\n",
    "reg.fit(X, y)\n",
    "A = mat(H3, X, reg.coef_)\n",
    "c = (y - reg.predict(X)).T@(y - reg.predict(X))*1/3\n",
    "t_up = reg.coef_[1] + sqrt(216)*c/A[1,1]\n",
    "t_lo = reg.coef_[1] - sqrt(216)*c/A[1,1]\n",
    "\n",
    "#print('3. Доверительный интервал для b3:\\t', round(coeffs[2] - bound, 3), '\\t', round(coeffs[2] + bound, 3))\n",
    "print('\\n3. Доверительный интервал для b3:\\t', round(t_lo, 4), '\\t', round(t_up, 4))\n",
    "\n",
    "reg.fit(Xx, y)\n",
    "A = mat(H12, Xx, reg.coef_)\n",
    "c = (y - reg.predict(Xx)).T@(y - reg.predict(Xx))*2/3\n",
    "\n",
    "print('\\n4. Доверительное множество для b1 и b2:')\n",
    "print('c = \\n', round(c, 4))\n",
    "print('A = \\n', A)"
   ]
  },
  {
   "cell_type": "markdown",
   "metadata": {},
   "source": [
    "$(\\hat{\\beta} - \\beta)'A (\\hat{\\beta} - \\beta) \\in [0; 19.16\\cdot c],$\n",
    "\n",
    "$19.16$ = квантиль уровня $0.05$ у $F_{2,3}$."
   ]
  },
  {
   "cell_type": "markdown",
   "metadata": {},
   "source": [
    "## Б."
   ]
  },
  {
   "cell_type": "markdown",
   "metadata": {},
   "source": [
    "Согласно полученным доверительным интервалам, на уровне значимости 0.05:\n",
    "1. Отвергается гипотеза о том, что $\\beta_2 = 0, \\beta_3 = 0$ \n",
    "2. Нельзя отвергнуть гипотезу о том, что $\\beta_3 = 0$,\n",
    "3. Отвергается гипотеза о том, что $\\beta_2 = 0$,\n",
    "4. Отвергается гипотеза о том, что $\\beta_2 = 1$,\n",
    "5. Отвергается гипотеза о том, что $\\beta_2 = 1.57$,\n",
    "6. "
   ]
  },
  {
   "cell_type": "code",
   "execution_count": 87,
   "metadata": {},
   "outputs": [
    {
     "name": "stdout",
     "output_type": "stream",
     "text": [
      "c = \n",
      " 0.0937\n",
      "A = \n",
      " [[ 122.75512423 -613.77562116]\n",
      " [-613.77562116 3068.87810582]]\n"
     ]
    }
   ],
   "source": [
    "H = np.array([[ 1, -5]])\n",
    "reg.fit(X, y)\n",
    "A = mat(H, X, reg.coef_)\n",
    "c = (y - reg.predict(X)).T@(y - reg.predict(X))*1/3\n",
    "print('c = \\n', round(c, 4))\n",
    "print('A = \\n', A)"
   ]
  },
  {
   "cell_type": "markdown",
   "metadata": {},
   "source": [
    "Даже при $\\beta_2, \\beta_3$, минимизирующих статистику, $(\\hat{\\beta} - \\beta)'A (\\hat{\\beta} - \\beta)$ всё равно достигает экстремальных значений:"
   ]
  },
  {
   "cell_type": "code",
   "execution_count": 88,
   "metadata": {},
   "outputs": [
    {
     "name": "stdout",
     "output_type": "stream",
     "text": [
      "35.7729617928818 1.795436231312197\n"
     ]
    }
   ],
   "source": [
    "x = (-reg.coef_[0]*(A[0,0]+A[1,0]) - reg.coef_[1]*(A[0,1]+A[1,1]))/((A[0,0]+A[1,0]) -5*(A[0,1]+A[1,1]))\n",
    "coef = reg.coef_ - [ x, -5*x]\n",
    "print(coef.T@A@coef, 19.16*c)"
   ]
  },
  {
   "cell_type": "markdown",
   "metadata": {},
   "source": [
    "Поэтому отвергается гипотеза о том, что $\\beta_2 = -5\\beta_3$"
   ]
  },
  {
   "cell_type": "markdown",
   "metadata": {},
   "source": [
    "## В."
   ]
  },
  {
   "cell_type": "code",
   "execution_count": 95,
   "metadata": {},
   "outputs": [
    {
     "name": "stdout",
     "output_type": "stream",
     "text": [
      "Семья Икс:\t 2.4\n",
      "Семья 4:\t 3.5\n",
      "Семья 5:\t 1.3\n"
     ]
    },
    {
     "data": {
      "text/html": [
       "<div>\n",
       "<style scoped>\n",
       "    .dataframe tbody tr th:only-of-type {\n",
       "        vertical-align: middle;\n",
       "    }\n",
       "\n",
       "    .dataframe tbody tr th {\n",
       "        vertical-align: top;\n",
       "    }\n",
       "\n",
       "    .dataframe thead th {\n",
       "        text-align: right;\n",
       "    }\n",
       "</style>\n",
       "<table border=\"1\" class=\"dataframe\">\n",
       "  <thead>\n",
       "    <tr style=\"text-align: right;\">\n",
       "      <th></th>\n",
       "      <th>Family</th>\n",
       "      <th>S</th>\n",
       "      <th>Y</th>\n",
       "      <th>W</th>\n",
       "    </tr>\n",
       "  </thead>\n",
       "  <tbody>\n",
       "    <tr>\n",
       "      <th>3</th>\n",
       "      <td>4</td>\n",
       "      <td>3.5</td>\n",
       "      <td>30</td>\n",
       "      <td>15</td>\n",
       "    </tr>\n",
       "    <tr>\n",
       "      <th>4</th>\n",
       "      <td>5</td>\n",
       "      <td>1.5</td>\n",
       "      <td>30</td>\n",
       "      <td>90</td>\n",
       "    </tr>\n",
       "  </tbody>\n",
       "</table>\n",
       "</div>"
      ],
      "text/plain": [
       "   Family    S   Y   W\n",
       "3       4  3.5  30  15\n",
       "4       5  1.5  30  90"
      ]
     },
     "execution_count": 95,
     "metadata": {},
     "output_type": "execute_result"
    }
   ],
   "source": [
    "Y = 30\n",
    "W = 52.5\n",
    "print('Семья Икс:\\t', round(predict(Y, W), 1))\n",
    "\n",
    "Y = 30\n",
    "W = 15\n",
    "print('Семья 4:\\t', round(predict(Y, W), 1))\n",
    "\n",
    "Y = 30\n",
    "W = 90\n",
    "print('Семья 5:\\t', round(predict(Y, W), 1))\n",
    "\n",
    "data.iloc[3:]"
   ]
  },
  {
   "cell_type": "markdown",
   "metadata": {},
   "source": [
    "Семья Икс может рассматриваться как средняя междй семьями 4 и 5 в том плане, что при равных доходах ее имущество равно среднему арифметическому имуществ семей 4 и 5.\n",
    "Рассчитанные моделью накопления семьи Икс (2.4) не равны среднему арифметическому фактических накоплений семей 4 и 5. Дело в том, что этого можно ожидать от линейной модели в отношении таких же рассчитанных для семей 4 и 5 величин. Если подсчитать накопления семей 4 и 5 с помощью модели (3.5, 1.3), они будут отличаться от фактических (3.5, 1.5), но уже будут отвечать этому свойству – рассчитанные накопления семьи Икс будут равны среднему арифметическому рассчитанных накоплений семей 4 и 5."
   ]
  },
  {
   "cell_type": "code",
   "execution_count": 94,
   "metadata": {},
   "outputs": [
    {
     "name": "stdout",
     "output_type": "stream",
     "text": [
      "\n",
      "Доверительное множество для накоплений этой семьи: 0.4712 4.3712\n"
     ]
    }
   ],
   "source": [
    "reg.fit(X, y)\n",
    "t_up = reg.intercept_ + reg.coef_[0]*30 + reg.coef_[1]*52.5+1.95\n",
    "t_lo = reg.intercept_ + reg.coef_[0]*30 + reg.coef_[1]*52.5-1.95\n",
    "print('\\nДоверительное множество для накоплений этой семьи:', round(t_lo, 4), round(t_up, 4))"
   ]
  },
  {
   "cell_type": "code",
   "execution_count": null,
   "metadata": {},
   "outputs": [],
   "source": []
  }
 ],
 "metadata": {
  "kernelspec": {
   "display_name": "Python 3",
   "language": "python",
   "name": "python3"
  },
  "language_info": {
   "codemirror_mode": {
    "name": "ipython",
    "version": 3
   },
   "file_extension": ".py",
   "mimetype": "text/x-python",
   "name": "python",
   "nbconvert_exporter": "python",
   "pygments_lexer": "ipython3",
   "version": "3.7.5"
  }
 },
 "nbformat": 4,
 "nbformat_minor": 2
}
